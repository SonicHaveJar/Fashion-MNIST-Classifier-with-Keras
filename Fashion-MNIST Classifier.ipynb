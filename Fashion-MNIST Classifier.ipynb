{
 "cells": [
  {
   "cell_type": "code",
   "execution_count": 87,
   "metadata": {},
   "outputs": [],
   "source": [
    "import tensorflow as tf"
   ]
  },
  {
   "cell_type": "markdown",
   "metadata": {},
   "source": [
    "# Import & prepare the dataset"
   ]
  },
  {
   "cell_type": "code",
   "execution_count": 88,
   "metadata": {},
   "outputs": [],
   "source": [
    "(x_train, y_train), (x_test, y_test) = tf.keras.datasets.fashion_mnist.load_data()\n",
    "\n",
    "x_train = tf.keras.utils.normalize(x_train)\n",
    "x_test = tf.keras.utils.normalize(x_test)"
   ]
  },
  {
   "cell_type": "markdown",
   "metadata": {},
   "source": [
    "# Define the Network"
   ]
  },
  {
   "cell_type": "code",
   "execution_count": 89,
   "metadata": {},
   "outputs": [],
   "source": [
    "tf.set_random_seed(4141)\n",
    "\n",
    "model = tf.keras.models.Sequential()\n",
    "\n",
    "model.add(tf.keras.layers.Flatten())\n",
    "model.add(tf.keras.layers.Dense(512, activation=tf.nn.relu))\n",
    "model.add(tf.keras.layers.Dense(512, activation=tf.nn.relu))\n",
    "model.add(tf.keras.layers.Dense(10, activation=tf.nn.softmax))"
   ]
  },
  {
   "cell_type": "markdown",
   "metadata": {},
   "source": [
    "# Compile the Network"
   ]
  },
  {
   "cell_type": "code",
   "execution_count": 90,
   "metadata": {},
   "outputs": [],
   "source": [
    "model.compile(optimizer='Adagrad',\n",
    "             loss='sparse_categorical_crossentropy',\n",
    "             metrics=['accuracy'])"
   ]
  },
  {
   "cell_type": "markdown",
   "metadata": {},
   "source": [
    "# Fit the Network"
   ]
  },
  {
   "cell_type": "code",
   "execution_count": 91,
   "metadata": {},
   "outputs": [
    {
     "name": "stdout",
     "output_type": "stream",
     "text": [
      "Epoch 1/33\n",
      "60000/60000 [==============================] - 17s 277us/step - loss: 0.4429 - acc: 0.8366\n",
      "Epoch 2/33\n",
      "60000/60000 [==============================] - 16s 270us/step - loss: 0.3267 - acc: 0.8789\n",
      "Epoch 3/33\n",
      "60000/60000 [==============================] - 16s 273us/step - loss: 0.2962 - acc: 0.8897\n",
      "Epoch 4/33\n",
      "60000/60000 [==============================] - 16s 274us/step - loss: 0.2761 - acc: 0.8966\n",
      "Epoch 5/33\n",
      "60000/60000 [==============================] - 17s 279us/step - loss: 0.2615 - acc: 0.9023\n",
      "Epoch 6/33\n",
      "60000/60000 [==============================] - 17s 288us/step - loss: 0.2493 - acc: 0.9071\n",
      "Epoch 7/33\n",
      "60000/60000 [==============================] - 16s 274us/step - loss: 0.2386 - acc: 0.9114\n",
      "Epoch 8/33\n",
      "60000/60000 [==============================] - 16s 275us/step - loss: 0.2290 - acc: 0.9142\n",
      "Epoch 9/33\n",
      "60000/60000 [==============================] - 16s 275us/step - loss: 0.2200 - acc: 0.9177\n",
      "Epoch 10/33\n",
      "60000/60000 [==============================] - 17s 280us/step - loss: 0.2122 - acc: 0.9201\n",
      "Epoch 11/33\n",
      "60000/60000 [==============================] - 16s 274us/step - loss: 0.2055 - acc: 0.9234\n",
      "Epoch 12/33\n",
      "60000/60000 [==============================] - 16s 273us/step - loss: 0.1985 - acc: 0.9260\n",
      "Epoch 13/33\n",
      "60000/60000 [==============================] - 16s 274us/step - loss: 0.1918 - acc: 0.9288\n",
      "Epoch 14/33\n",
      "60000/60000 [==============================] - 17s 279us/step - loss: 0.1855 - acc: 0.9322\n",
      "Epoch 15/33\n",
      "60000/60000 [==============================] - 17s 286us/step - loss: 0.1796 - acc: 0.9341\n",
      "Epoch 16/33\n",
      "60000/60000 [==============================] - 16s 272us/step - loss: 0.1742 - acc: 0.9354\n",
      "Epoch 17/33\n",
      "60000/60000 [==============================] - 17s 277us/step - loss: 0.1687 - acc: 0.9376\n",
      "Epoch 18/33\n",
      "60000/60000 [==============================] - 16s 275us/step - loss: 0.1638 - acc: 0.9405\n",
      "Epoch 19/33\n",
      "60000/60000 [==============================] - 17s 279us/step - loss: 0.1578 - acc: 0.9428\n",
      "Epoch 20/33\n",
      "60000/60000 [==============================] - 17s 276us/step - loss: 0.1538 - acc: 0.9445\n",
      "Epoch 21/33\n",
      "60000/60000 [==============================] - 17s 279us/step - loss: 0.1491 - acc: 0.9462\n",
      "Epoch 22/33\n",
      "60000/60000 [==============================] - 16s 273us/step - loss: 0.1450 - acc: 0.9482\n",
      "Epoch 23/33\n",
      "60000/60000 [==============================] - 16s 271us/step - loss: 0.1409 - acc: 0.9498\n",
      "Epoch 24/33\n",
      "60000/60000 [==============================] - 17s 275us/step - loss: 0.1365 - acc: 0.9513\n",
      "Epoch 25/33\n",
      "60000/60000 [==============================] - 17s 275us/step - loss: 0.1321 - acc: 0.9536\n",
      "Epoch 26/33\n",
      "60000/60000 [==============================] - 17s 277us/step - loss: 0.1286 - acc: 0.9542\n",
      "Epoch 27/33\n",
      "60000/60000 [==============================] - 17s 291us/step - loss: 0.1247 - acc: 0.9565\n",
      "Epoch 28/33\n",
      "60000/60000 [==============================] - 17s 290us/step - loss: 0.1214 - acc: 0.9576\n",
      "Epoch 29/33\n",
      "60000/60000 [==============================] - 17s 285us/step - loss: 0.1179 - acc: 0.9592\n",
      "Epoch 30/33\n",
      "60000/60000 [==============================] - 17s 276us/step - loss: 0.1142 - acc: 0.9602\n",
      "Epoch 31/33\n",
      "60000/60000 [==============================] - 17s 275us/step - loss: 0.1106 - acc: 0.9621\n",
      "Epoch 32/33\n",
      "60000/60000 [==============================] - 16s 274us/step - loss: 0.1081 - acc: 0.9629\n",
      "Epoch 33/33\n",
      "60000/60000 [==============================] - 16s 274us/step - loss: 0.1053 - acc: 0.9636\n"
     ]
    },
    {
     "data": {
      "text/plain": [
       "<tensorflow.python.keras.callbacks.History at 0x179a7864e80>"
      ]
     },
     "execution_count": 91,
     "metadata": {},
     "output_type": "execute_result"
    }
   ],
   "source": [
    "model.fit(x_train, y_train, epochs=30)"
   ]
  },
  {
   "cell_type": "markdown",
   "metadata": {},
   "source": [
    "# Evaluate the Network"
   ]
  },
  {
   "cell_type": "code",
   "execution_count": 92,
   "metadata": {},
   "outputs": [
    {
     "name": "stdout",
     "output_type": "stream",
     "text": [
      "10000/10000 [==============================] - 1s 74us/step\n",
      "0.33656941450238226 0.8962\n"
     ]
    }
   ],
   "source": [
    "val_loss, val_acc = model.evaluate(x_test, y_test)\n",
    "print(val_loss, val_acc)"
   ]
  },
  {
   "cell_type": "markdown",
   "metadata": {},
   "source": [
    "# TIME TO PREDICT WOOOO"
   ]
  },
  {
   "cell_type": "code",
   "execution_count": 96,
   "metadata": {},
   "outputs": [
    {
     "name": "stdout",
     "output_type": "stream",
     "text": [
      "Zapatilla deportiva\n"
     ]
    }
   ],
   "source": [
    "import numpy as np\n",
    "from random import randint\n",
    "\n",
    "n = randint(0, len(x_test))\n",
    "\n",
    "prediction = model. predict([x_test])\n",
    "prediction_NUM = np.argmax(prediction[n])\n",
    "\n",
    "if (prediction_NUM == 0):\n",
    "    print('Camiseta/T-shirt')\n",
    "elif (prediction_NUM == 1):\n",
    "    print('Pantalon/Trouser')\n",
    "elif (prediction_NUM == 2):\n",
    "    print('Jersey/Pullover')\n",
    "elif (prediction_NUM == 3):\n",
    "    print('Vestido/Dress')\n",
    "elif (prediction_NUM == 4):\n",
    "    print('Abrigo/Coat')\n",
    "elif (prediction_NUM == 5):\n",
    "    print('Sandalia/Sandal')\n",
    "elif (prediction_NUM == 6):\n",
    "    print('Camisa/Shirt')\n",
    "elif (prediction_NUM == 7):\n",
    "    print('Zapatilla deportiva/Sneaker')\n",
    "elif (prediction_NUM == 8):\n",
    "    print('Bolso/Bag')\n",
    "else:\n",
    "    print('Bota de tobillo/Ankle boot')"
   ]
  },
  {
   "cell_type": "markdown",
   "metadata": {},
   "source": [
    "### See the predicted image"
   ]
  },
  {
   "cell_type": "code",
   "execution_count": 97,
   "metadata": {},
   "outputs": [
    {
     "data": {
      "image/png": "[encoded data removed]",
      "text/plain": [
       "<Figure size 432x288 with 1 Axes>"
      ]
     },
     "metadata": {},
     "output_type": "display_data"
    }
   ],
   "source": [
    "import matplotlib.pyplot as plt\n",
    "\n",
    "plt.imshow(x_test[n], cmap='gray')\n",
    "plt.show()"
   ]
  },
  {
   "cell_type": "markdown",
   "metadata": {},
   "source": [
    "### Save the model in a folder"
   ]
  },
  {
   "cell_type": "code",
   "execution_count": 95,
   "metadata": {},
   "outputs": [],
   "source": [
    "import h5py\n",
    "import os\n",
    "\n",
    "if not os.path.exists('Model'):\n",
    "    os.makedirs('Model')\n",
    "    \n",
    "model.save('Model/mnist_clothes.model')"
   ]
  }
 ],
 "metadata": {
  "kernelspec": {
   "display_name": "Python 3",
   "language": "python",
   "name": "python3"
  },
  "language_info": {
   "codemirror_mode": {
    "name": "ipython",
    "version": 3
   },
   "file_extension": ".py",
   "mimetype": "text/x-python",
   "name": "python",
   "nbconvert_exporter": "python",
   "pygments_lexer": "ipython3",
   "version": "3.6.6"
  }
 },
 "nbformat": 4,
 "nbformat_minor": 2
}
